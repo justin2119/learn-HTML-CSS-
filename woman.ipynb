{
 "cells": [
  {
   "cell_type": "code",
   "execution_count": 26,
   "metadata": {},
   "outputs": [
    {
     "name": "stdout",
     "output_type": "stream",
     "text": [
      "\u001b[38;2;255;103;31m  ____        __ _                                          _     \n",
      " |  _ \\ __ _ / _(_) ___  _   _      _   _  ___   ___   ___ | |__  \n",
      " | |_) / _` | |_| |/ _ \\| | | |    | | | |/ _ \\ / _ \\ / _ \\| '_ \\ \n",
      " |  _ < (_| |  _| | (_) | |_| |    | |_| | (_) | (_) | (_) | | | |\n",
      " |_| \\_\\__,_|_| |_|\\___/ \\__,_|     \\__, |\\___/ \\___/ \\___/|_| |_|\n",
      "                                    |___/                         \n",
      "\u001b[38;2;255;255;255m\n"
     ]
    }
   ],
   "source": [
    "import pyfiglet  as pyf\n",
    "orange='\\033[38;2;255;103;31m'\n",
    "white='\\033[38;2;255;255;255m'\n",
    "#font=pyf.figlet_format(\"Happy Women Day\")\n",
    "f=pyf.figlet_format(\" Rafiou    yoooh\")\n",
    "#print(orange+font+white,end=\"\\n\")\n",
    "print(orange+f+white)"
   ]
  },
  {
   "cell_type": "code",
   "execution_count": null,
   "metadata": {},
   "outputs": [],
   "source": []
  }
 ],
 "metadata": {
  "kernelspec": {
   "display_name": "base",
   "language": "python",
   "name": "python3"
  },
  "language_info": {
   "codemirror_mode": {
    "name": "ipython",
    "version": 3
   },
   "file_extension": ".py",
   "mimetype": "text/x-python",
   "name": "python",
   "nbconvert_exporter": "python",
   "pygments_lexer": "ipython3",
   "version": "3.12.7"
  }
 },
 "nbformat": 4,
 "nbformat_minor": 2
}
